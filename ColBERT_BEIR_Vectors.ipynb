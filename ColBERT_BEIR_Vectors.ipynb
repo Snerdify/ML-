{
  "nbformat": 4,
  "nbformat_minor": 0,
  "metadata": {
    "colab": {
      "provenance": [],
      "gpuType": "A100",
      "machine_shape": "hm",
      "include_colab_link": true
    },
    "kernelspec": {
      "name": "python3",
      "display_name": "Python 3"
    },
    "language_info": {
      "name": "python"
    },
    "accelerator": "GPU"
  },
  "cells": [
    {
      "cell_type": "markdown",
      "metadata": {
        "id": "view-in-github",
        "colab_type": "text"
      },
      "source": [
        "<a href=\"https://colab.research.google.com/github/Snerdify/ML-/blob/main/ColBERT_BEIR_Vectors.ipynb\" target=\"_parent\"><img src=\"https://colab.research.google.com/assets/colab-badge.svg\" alt=\"Open In Colab\"/></a>"
      ]
    },
    {
      "cell_type": "code",
      "execution_count": null,
      "metadata": {
        "id": "2CC0gqw4uxAS"
      },
      "outputs": [],
      "source": [
        "!pip install -U datasets -qq"
      ]
    },
    {
      "cell_type": "code",
      "source": [
        "from datasets import load_dataset, Dataset\n",
        "\n",
        "corpus, queries = load_dataset(\"BeIR/trec-covid\", \"corpus\")[\"corpus\"], load_dataset(\"BeIR/trec-covid\", \"queries\")[\"queries\"]\n",
        "corpus = corpus.map(lambda x:{\"combined_text\": f\"{x['title']}\\n{x['text']}\"})"
      ],
      "metadata": {
        "id": "iNRfcrA6u4_7"
      },
      "execution_count": null,
      "outputs": []
    },
    {
      "cell_type": "code",
      "source": [
        "corpus = corpus.select(range(2048))\n",
        "all_passages = corpus[\"combined_text\"]"
      ],
      "metadata": {
        "id": "DzQwYzodvDis"
      },
      "execution_count": null,
      "outputs": []
    },
    {
      "cell_type": "code",
      "source": [
        "!pip install git+https://github.com/stanford-futuredata/ColBERT -qq"
      ],
      "metadata": {
        "colab": {
          "base_uri": "https://localhost:8080/"
        },
        "id": "UwodBxYX0_sx",
        "outputId": "4f6b86ee-6ef9-4bc9-bf0c-ec577561da20"
      },
      "execution_count": null,
      "outputs": [
        {
          "output_type": "stream",
          "name": "stdout",
          "text": [
            "  Preparing metadata (setup.py) ... \u001b[?25l\u001b[?25hdone\n"
          ]
        }
      ]
    },
    {
      "cell_type": "code",
      "source": [
        "from colbert.modeling.checkpoint import Checkpoint\n",
        "from colbert.infra import ColBERTConfig\n",
        "import pandas\n",
        "import numpy\n",
        "import torch"
      ],
      "metadata": {
        "id": "6TGW09eY1DoV"
      },
      "execution_count": null,
      "outputs": []
    },
    {
      "cell_type": "code",
      "source": [
        "ckpt = Checkpoint(\"colbert-ir/colbertv2.0\", colbert_config=ColBERTConfig(\n",
        "            root=\"experiments\",\n",
        "        ))"
      ],
      "metadata": {
        "id": "z0XzaQYS1Nhl"
      },
      "execution_count": null,
      "outputs": []
    },
    {
      "cell_type": "code",
      "source": [
        "# queries['text']"
      ],
      "metadata": {
        "id": "ba84uNZ03Ssm"
      },
      "execution_count": null,
      "outputs": []
    },
    {
      "cell_type": "code",
      "source": [
        "%%time\n",
        "Q = ckpt.queryFromText(queries['text'], bsize=64)\n",
        "Q.shape"
      ],
      "metadata": {
        "colab": {
          "base_uri": "https://localhost:8080/"
        },
        "id": "nvPiis9y1XLL",
        "outputId": "9ad197f5-12ba-4291-951b-1bb08232456a"
      },
      "execution_count": null,
      "outputs": [
        {
          "output_type": "stream",
          "name": "stdout",
          "text": [
            "CPU times: user 33.1 ms, sys: 2.83 ms, total: 35.9 ms\n",
            "Wall time: 21.9 ms\n"
          ]
        },
        {
          "output_type": "execute_result",
          "data": {
            "text/plain": [
              "torch.Size([50, 32, 128])"
            ]
          },
          "metadata": {},
          "execution_count": 20
        }
      ]
    },
    {
      "cell_type": "code",
      "source": [
        "torch.save(Q, \"queries.pt\")"
      ],
      "metadata": {
        "id": "WAfqg-scVEFw"
      },
      "execution_count": null,
      "outputs": []
    },
    {
      "cell_type": "code",
      "source": [
        "D = ckpt.docFromText(all_passages, bsize=1024)[0]"
      ],
      "metadata": {
        "id": "e2gWilVk1Rmd"
      },
      "execution_count": null,
      "outputs": []
    },
    {
      "cell_type": "code",
      "source": [
        "D.shape"
      ],
      "metadata": {
        "id": "AnLtnSma3FuS",
        "colab": {
          "base_uri": "https://localhost:8080/"
        },
        "outputId": "cc79e272-15fc-47e1-917b-a94be7e36329"
      },
      "execution_count": null,
      "outputs": [
        {
          "output_type": "execute_result",
          "data": {
            "text/plain": [
              "torch.Size([2048, 180, 128])"
            ]
          },
          "metadata": {},
          "execution_count": 23
        }
      ]
    },
    {
      "cell_type": "code",
      "source": [
        "torch.save(D, \"documents-2K.pt\")"
      ],
      "metadata": {
        "id": "tZDdrYzxVbRV"
      },
      "execution_count": null,
      "outputs": []
    }
  ]
}